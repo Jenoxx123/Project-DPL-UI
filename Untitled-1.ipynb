{
 "cells": [
  {
   "cell_type": "code",
   "execution_count": 1,
   "metadata": {},
   "outputs": [
    {
     "name": "stdout",
     "output_type": "stream",
     "text": [
      "Turning left...\n",
      "Turning right...\n",
      "Braking...\n",
      "Braking...\n",
      "Braking...\n",
      "Braking...\n"
     ]
    }
   ],
   "source": [
    "import tkinter as tk\n",
    "from PIL import ImageTk, Image\n",
    "\n",
    "def accelerate():\n",
    "    print(\"Accelerating...\")\n",
    "\n",
    "def brake():\n",
    "    print(\"Braking...\")\n",
    "\n",
    "def turn_left():\n",
    "    print(\"Turning left...\")\n",
    "\n",
    "def turn_right():\n",
    "    print(\"Turning right...\")\n",
    "\n",
    "root = tk.Tk()\n",
    "\n",
    "# Set initial window size\n",
    "window_width = 1200\n",
    "window_height = 800\n",
    "root.geometry(f\"{window_width}x{window_height}\")\n",
    "\n",
    "# Calculate position for centering the window\n",
    "position_top = int(root.winfo_screenheight() / 2 - window_height / 2)\n",
    "position_right = int(root.winfo_screenwidth() / 2 - window_width / 2)\n",
    "\n",
    "# Position the window\n",
    "root.geometry(f\"+{position_right}+{position_top}\")\n",
    "\n",
    "# Create a frame for the buttons\n",
    "button_frame = tk.Frame(root)\n",
    "button_frame.place(relx=0.5, rely=0.5, anchor='center')\n",
    "\n",
    "# Load images\n",
    "left_arrow_img = Image.open(\"E:\\DLP302m\\Project\\Screenshot 2024-05-11 160121.png\")\n",
    "right_arrow_img = Image.open(\"E:\\DLP302m\\Project\\Screenshot 2024-05-11 160131.png\")\n",
    "brake_img = Image.open(\"E:\\DLP302m\\Project\\Screenshot 2024-05-11 162629.png\")\n",
    "\n",
    "# Resize images to the same size\n",
    "size = (100, 100)  # Adjust to desired size\n",
    "left_arrow_img = left_arrow_img.resize(size)\n",
    "right_arrow_img = right_arrow_img.resize(size)\n",
    "brake_img = brake_img.resize(size)\n",
    "\n",
    "# Convert images to PhotoImage\n",
    "left_arrow = ImageTk.PhotoImage(left_arrow_img)\n",
    "right_arrow = ImageTk.PhotoImage(right_arrow_img)\n",
    "brake_photo = ImageTk.PhotoImage(brake_img)\n",
    "\n",
    "accelerate_button = tk.Button(button_frame, text=\"Accelerate\", command=accelerate)\n",
    "accelerate_button.grid(row=0, column=0, columnspan=2, sticky='ew', padx=10, pady=10)\n",
    "\n",
    "turn_left_button = tk.Button(button_frame, image=left_arrow, command=turn_left)\n",
    "turn_left_button.image = left_arrow  # Keep a reference to the image\n",
    "turn_left_button.grid(row=1, column=0, sticky='ew', padx=10, pady=10)\n",
    "\n",
    "turn_right_button = tk.Button(button_frame, image=right_arrow, command=turn_right)\n",
    "turn_right_button.image = right_arrow  # Keep a reference to the image\n",
    "turn_right_button.grid(row=1, column=1, sticky='ew', padx=10, pady=10)\n",
    "\n",
    "brake_button = tk.Button(button_frame, image=brake_photo, command=brake)\n",
    "brake_button.image = brake_photo  # Keep a reference to the image\n",
    "brake_button.grid(row=2, column=0, columnspan=2, sticky='ew', padx=10, pady=10)\n",
    "\n",
    "root.mainloop()"
   ]
  }
 ],
 "metadata": {
  "kernelspec": {
   "display_name": "Python 3",
   "language": "python",
   "name": "python3"
  },
  "language_info": {
   "codemirror_mode": {
    "name": "ipython",
    "version": 3
   },
   "file_extension": ".py",
   "mimetype": "text/x-python",
   "name": "python",
   "nbconvert_exporter": "python",
   "pygments_lexer": "ipython3",
   "version": "3.11.8"
  }
 },
 "nbformat": 4,
 "nbformat_minor": 2
}
